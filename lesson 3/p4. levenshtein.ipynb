{
 "cells": [
  {
   "cell_type": "markdown",
   "metadata": {},
   "source": [
    "## Levenshtein"
   ]
  },
  {
   "cell_type": "markdown",
   "metadata": {},
   "source": [
    "* [Объяснение и последовательная имплементация на Python](https://www.python-course.eu/levenshtein_distance.php)\n",
    "* [Вики-учебник и имплементациями на многих языках](https://en.wikibooks.org/wiki/Algorithm_Implementation/Strings/Levenshtein_distance)\n",
    "* Python package [#1](https://github.com/aflc/editdistance), [#2](https://github.com/ztane/python-Levenshtein/), [#3](https://github.com/toastdriven/pylev)"
   ]
  },
  {
   "cell_type": "code",
   "execution_count": 1,
   "metadata": {},
   "outputs": [],
   "source": [
    "import editdistance\n",
    "import Levenshtein\n",
    "import pylev"
   ]
  },
  {
   "cell_type": "code",
   "execution_count": 2,
   "metadata": {},
   "outputs": [],
   "source": [
    "TXT1 = 'fsffvfdsbbdfvvdavavavavavava'\n",
    "TXT2 = 'fvdaabavvvvvadvdvavavadfsfsdafvvav'"
   ]
  },
  {
   "cell_type": "code",
   "execution_count": 3,
   "metadata": {},
   "outputs": [
    {
     "name": "stdout",
     "output_type": "stream",
     "text": [
      "21 21 21\n"
     ]
    }
   ],
   "source": [
    "print pylev.levenshtein(TXT1, TXT2), editdistance.eval(TXT1, TXT2), Levenshtein.distance(TXT1, TXT2)"
   ]
  },
  {
   "cell_type": "code",
   "execution_count": 4,
   "metadata": {},
   "outputs": [
    {
     "name": "stdout",
     "output_type": "stream",
     "text": [
      "The slowest run took 4.32 times longer than the fastest. This could mean that an intermediate result is being cached.\n",
      "10000 loops, best of 3: 134 µs per loop\n"
     ]
    }
   ],
   "source": [
    "timeit pylev.levenshtein(TXT1, TXT2)"
   ]
  },
  {
   "cell_type": "code",
   "execution_count": 5,
   "metadata": {},
   "outputs": [
    {
     "name": "stdout",
     "output_type": "stream",
     "text": [
      "The slowest run took 6.31 times longer than the fastest. This could mean that an intermediate result is being cached.\n",
      "1000000 loops, best of 3: 1.1 µs per loop\n"
     ]
    }
   ],
   "source": [
    "timeit editdistance.eval(TXT1, TXT2)"
   ]
  },
  {
   "cell_type": "code",
   "execution_count": 6,
   "metadata": {},
   "outputs": [
    {
     "name": "stdout",
     "output_type": "stream",
     "text": [
      "1000000 loops, best of 3: 1.53 µs per loop\n"
     ]
    }
   ],
   "source": [
    "timeit Levenshtein.distance(TXT1, TXT2)"
   ]
  },
  {
   "cell_type": "code",
   "execution_count": null,
   "metadata": {},
   "outputs": [],
   "source": []
  }
 ],
 "metadata": {
  "kernelspec": {
   "display_name": "Python 2",
   "language": "python",
   "name": "python2"
  },
  "language_info": {
   "codemirror_mode": {
    "name": "ipython",
    "version": 2
   },
   "file_extension": ".py",
   "mimetype": "text/x-python",
   "name": "python",
   "nbconvert_exporter": "python",
   "pygments_lexer": "ipython2",
   "version": "2.7.12"
  }
 },
 "nbformat": 4,
 "nbformat_minor": 2
}
